{
  "nbformat": 4,
  "nbformat_minor": 0,
  "metadata": {
    "colab": {
      "name": "Bai chuong 4.ipynb",
      "provenance": [],
      "authorship_tag": "ABX9TyOL+1+HQp/3lvyqDHL3n65d",
      "include_colab_link": true
    },
    "kernelspec": {
      "name": "python3",
      "display_name": "Python 3"
    },
    "language_info": {
      "name": "python"
    }
  },
  "cells": [
    {
      "cell_type": "markdown",
      "metadata": {
        "id": "view-in-github",
        "colab_type": "text"
      },
      "source": [
        "<a href=\"https://colab.research.google.com/github/nguyennangmanh/THToancaocap/blob/main/Bai_chuong_4.ipynb\" target=\"_parent\"><img src=\"https://colab.research.google.com/assets/colab-badge.svg\" alt=\"Open In Colab\"/></a>"
      ]
    },
    {
      "cell_type": "markdown",
      "source": [
        "th1\n",
        "\n"
      ],
      "metadata": {
        "id": "aY4leiIdH8g2"
      }
    },
    {
      "cell_type": "code",
      "source": [
        "import numpy as np\n",
        "mienchia=np.linspace(0,2,11)\n",
        "print(mienchia)\n"
      ],
      "metadata": {
        "colab": {
          "base_uri": "https://localhost:8080/"
        },
        "id": "-4Sm-TnPIIRR",
        "outputId": "2a1ec722-608a-4bed-d1d2-4e003eb31616"
      },
      "execution_count": null,
      "outputs": [
        {
          "output_type": "stream",
          "name": "stdout",
          "text": [
            "[0.  0.2 0.4 0.6 0.8 1.  1.2 1.4 1.6 1.8 2. ]\n"
          ]
        }
      ]
    },
    {
      "cell_type": "markdown",
      "source": [
        "th2"
      ],
      "metadata": {
        "id": "mNVn5pl0J4bw"
      }
    },
    {
      "cell_type": "code",
      "source": [
        "import numpy as np\n",
        "import matplotlib.pyplot as plt\n",
        "fs=[1,2,4]\n",
        "all_time=np.linspace(0,2,200)\n",
        "t=all_time[:100]\n",
        "for f in fs:\n",
        "         y=np.sin(2*np.pi*f*t)\n",
        "         plt.plot(t,y label='{} Hz'.format(f))\n",
        "  plt.leagend()\n",
        "  from google.colab import drive\n",
        "  drive.mont('/drive')\n",
        "  plt.save:\n"
      ],
      "metadata": {
        "id": "58CdIp4ZJ6GA"
      },
      "execution_count": null,
      "outputs": []
    }
  ]
}