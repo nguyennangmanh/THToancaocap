{
  "nbformat": 4,
  "nbformat_minor": 0,
  "metadata": {
    "colab": {
      "name": "Bai chuong 4.ipynb",
      "provenance": [],
      "collapsed_sections": [],
      "authorship_tag": "ABX9TyOFm0rvDXdTXUeNzCksv3p8",
      "include_colab_link": true
    },
    "kernelspec": {
      "name": "python3",
      "display_name": "Python 3"
    },
    "language_info": {
      "name": "python"
    }
  },
  "cells": [
    {
      "cell_type": "markdown",
      "metadata": {
        "id": "view-in-github",
        "colab_type": "text"
      },
      "source": [
        "<a href=\"https://colab.research.google.com/github/nguyennangmanh/THToancaocap/blob/main/Bai_chuong_4.ipynb\" target=\"_parent\"><img src=\"https://colab.research.google.com/assets/colab-badge.svg\" alt=\"Open In Colab\"/></a>"
      ]
    },
    {
      "cell_type": "markdown",
      "source": [
        "th1\n",
        "\n"
      ],
      "metadata": {
        "id": "aY4leiIdH8g2"
      }
    },
    {
      "cell_type": "code",
      "source": [
        "import numpy as np\n",
        "mienchia=np.linspace(0,2,11)\n",
        "print(mienchia)\n"
      ],
      "metadata": {
        "colab": {
          "base_uri": "https://localhost:8080/"
        },
        "id": "-4Sm-TnPIIRR",
        "outputId": "2a1ec722-608a-4bed-d1d2-4e003eb31616"
      },
      "execution_count": null,
      "outputs": [
        {
          "output_type": "stream",
          "name": "stdout",
          "text": [
            "[0.  0.2 0.4 0.6 0.8 1.  1.2 1.4 1.6 1.8 2. ]\n"
          ]
        }
      ]
    },
    {
      "cell_type": "markdown",
      "source": [
        "th2"
      ],
      "metadata": {
        "id": "mNVn5pl0J4bw"
      }
    },
    {
      "cell_type": "code",
      "source": [
        "import numpy as np\n",
        "import matplotlib.pyplot as plt\n",
        "fs = [1,2,4]\n",
        "all_time = np.linspace(0,2,200)\n",
        "t = all_time[:100]\n",
        "for f in fs:\n",
        "    y = np.sin(2*np.pi*f*t)\n",
        "    plt.plot(t,y,label='{} Hz'.format(f))\n",
        "plt.legend()\n",
        "from google.colab import drive\n",
        "drive.mount ('/drive')\n",
        "\n"
      ],
      "metadata": {
        "id": "58CdIp4ZJ6GA"
      },
      "execution_count": null,
      "outputs": []
    },
    {
      "cell_type": "markdown",
      "source": [
        "th4"
      ],
      "metadata": {
        "id": "27pZaXmKOzfz"
      }
    },
    {
      "cell_type": "code",
      "source": [
        "def f (x): return x**2\n",
        "print(f(8))"
      ],
      "metadata": {
        "id": "etCTd5efO1im"
      },
      "execution_count": null,
      "outputs": []
    },
    {
      "cell_type": "code",
      "source": [
        "g = lambda x: x**2\n",
        "print(g(8))"
      ],
      "metadata": {
        "id": "q6TwAzBBMFad"
      },
      "execution_count": null,
      "outputs": []
    },
    {
      "cell_type": "markdown",
      "source": [
        "th5"
      ],
      "metadata": {
        "id": "S7o607oWMHri"
      }
    },
    {
      "cell_type": "code",
      "source": [
        "def thue(phan_tram): return lambda x: x *phan_tram\n",
        "hcm = thue(0.012)\n",
        "hn = thue(0.01)\n",
        "hcm(1000000)"
      ],
      "metadata": {
        "id": "DWlwEqeYMJVw"
      },
      "execution_count": null,
      "outputs": []
    },
    {
      "cell_type": "code",
      "source": [
        "hn(1000000)"
      ],
      "metadata": {
        "id": "0HvAhqWlMLev"
      },
      "execution_count": null,
      "outputs": []
    },
    {
      "cell_type": "markdown",
      "source": [
        "th6"
      ],
      "metadata": {
        "id": "jgPiwTmoMN7m"
      }
    },
    {
      "cell_type": "code",
      "source": [
        "hinhthang = lambda f,a,b: (b-a)*(f(a)+f(b))/2\n",
        "from math import exp\n",
        "hinhthang(exp,0,1)"
      ],
      "metadata": {
        "id": "4SzOI2QdMROF"
      },
      "execution_count": null,
      "outputs": []
    },
    {
      "cell_type": "code",
      "source": [
        "def hai_x(x):\n",
        "  return 2*x\n",
        "hinhthang(hai_x,1,2)\n"
      ],
      "metadata": {
        "id": "BaRRoZPvMTXV"
      },
      "execution_count": null,
      "outputs": []
    },
    {
      "cell_type": "markdown",
      "source": [
        "th7"
      ],
      "metadata": {
        "id": "23oSYkf5MVdz"
      }
    },
    {
      "cell_type": "code",
      "source": [
        "def traprule(ham,trai,phai):\n",
        "  return (phai-trai)*(ham(trai)+ham(phai))/2\n",
        "import math\n",
        "S='Bieu thuc can tinh tich phan la e^x:'\n",
        "print(S+'[a,b')\n",
        "A = float(input('Nhap a:'))\n",
        "B = float(input('Nhap b:'))\n",
        "Y = traprule(math.exp,A,B)\n",
        "print(S + '[%.1E,%.1E]:'%(A,B))\n",
        "print('Gia tri xap xi : %.15E'%Y)\n",
        "E = math.exp(B) - math.exp(A)\n",
        "print('Gia tri chinh xac: %.E'%E)"
      ],
      "metadata": {
        "id": "RfeerLeGMW6O"
      },
      "execution_count": null,
      "outputs": []
    }
  ]
}