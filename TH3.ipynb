{
  "nbformat": 4,
  "nbformat_minor": 0,
  "metadata": {
    "colab": {
      "name": "TH3.ipynb",
      "provenance": [],
      "authorship_tag": "ABX9TyOc/MSEa7G1hI0GeUNJnxGn",
      "include_colab_link": true
    },
    "kernelspec": {
      "name": "python3",
      "display_name": "Python 3"
    },
    "language_info": {
      "name": "python"
    }
  },
  "cells": [
    {
      "cell_type": "markdown",
      "metadata": {
        "id": "view-in-github",
        "colab_type": "text"
      },
      "source": [
        "<a href=\"https://colab.research.google.com/github/nguyennangmanh/THToancaocap/blob/main/TH3.ipynb\" target=\"_parent\"><img src=\"https://colab.research.google.com/assets/colab-badge.svg\" alt=\"Open In Colab\"/></a>"
      ]
    },
    {
      "cell_type": "markdown",
      "source": [
        "b1"
      ],
      "metadata": {
        "id": "nCANZBu5FWaa"
      }
    },
    {
      "cell_type": "code",
      "source": [
        "def luythua(x, n):\n",
        "  ketqua = 1\n",
        "  for i in range(n):\n",
        "    ketqua = ketqua*n\n",
        "  return ketqua"
      ],
      "metadata": {
        "id": "_DOdOXNNFZxC"
      },
      "execution_count": 5,
      "outputs": []
    },
    {
      "cell_type": "code",
      "source": [
        "luythua(2,1)"
      ],
      "metadata": {
        "colab": {
          "base_uri": "https://localhost:8080/"
        },
        "id": "tVU4ViacFs4W",
        "outputId": "9d814806-7cbb-4183-d3f6-f546ba89cff7"
      },
      "execution_count": 3,
      "outputs": [
        {
          "output_type": "execute_result",
          "data": {
            "text/plain": [
              "1"
            ]
          },
          "metadata": {},
          "execution_count": 3
        }
      ]
    },
    {
      "cell_type": "code",
      "source": [
        "luythua(2,0)"
      ],
      "metadata": {
        "colab": {
          "base_uri": "https://localhost:8080/"
        },
        "id": "pwiEKzs3FvLb",
        "outputId": "2c7aea82-b474-4870-a135-097a701d9534"
      },
      "execution_count": 4,
      "outputs": [
        {
          "output_type": "execute_result",
          "data": {
            "text/plain": [
              "1"
            ]
          },
          "metadata": {},
          "execution_count": 4
        }
      ]
    },
    {
      "cell_type": "markdown",
      "source": [
        "b4"
      ],
      "metadata": {
        "id": "Debky4QdF2lt"
      }
    },
    {
      "cell_type": "code",
      "source": [
        "while True:\n",
        "  try:\n",
        "    x = int(input('Vui long nhap so:'))\n",
        "  except ValueError:\n",
        "    print('So nhap vua sai')\n",
        "  else:\n",
        "    print('so vua nhap la: ' + str(x))\n",
        "    break\n",
        "  finally:\n",
        "    print('Da hoan thanh chuong trinh')"
      ],
      "metadata": {
        "colab": {
          "base_uri": "https://localhost:8080/"
        },
        "id": "adntXAchF3x-",
        "outputId": "a94499b3-ec36-4680-9fb2-69c545bb2573"
      },
      "execution_count": 6,
      "outputs": [
        {
          "output_type": "stream",
          "name": "stdout",
          "text": [
            "Vui long nhap so:2\n",
            "so vua nhap la: 2\n",
            "Da hoan thanh chuong trinh\n"
          ]
        }
      ]
    },
    {
      "cell_type": "markdown",
      "source": [
        "b5"
      ],
      "metadata": {
        "id": "nL7Y96PjGUiM"
      }
    },
    {
      "cell_type": "code",
      "source": [
        "def frange(batdau, ketthuc, buocnhay):\n",
        "  day_ketqua = []\n",
        "  while batdau < ketthuc:\n",
        "    day_ketqua.append(batdau)\n",
        "    batdau = batdau + buocnhay\n",
        "  return day_ketqua"
      ],
      "metadata": {
        "id": "9TxHbLzsGV8G"
      },
      "execution_count": 7,
      "outputs": []
    },
    {
      "cell_type": "code",
      "source": [
        "tu0den2 = frange(0, 2, 0.2)\n",
        "tu0den2"
      ],
      "metadata": {
        "colab": {
          "base_uri": "https://localhost:8080/"
        },
        "id": "nSz-p1ZEGYPs",
        "outputId": "df827d4e-f324-494c-dcc9-fd2be351a2e3"
      },
      "execution_count": 8,
      "outputs": [
        {
          "output_type": "execute_result",
          "data": {
            "text/plain": [
              "[0,\n",
              " 0.2,\n",
              " 0.4,\n",
              " 0.6000000000000001,\n",
              " 0.8,\n",
              " 1.0,\n",
              " 1.2,\n",
              " 1.4,\n",
              " 1.5999999999999999,\n",
              " 1.7999999999999998,\n",
              " 1.9999999999999998]"
            ]
          },
          "metadata": {},
          "execution_count": 8
        }
      ]
    },
    {
      "cell_type": "markdown",
      "source": [
        "b6\n",
        "\n"
      ],
      "metadata": {
        "id": "-ppLV74AGepq"
      }
    },
    {
      "cell_type": "markdown",
      "source": [
        "phân đoạn 1:\n"
      ],
      "metadata": {
        "id": "zKyubN7VGsQg"
      }
    },
    {
      "cell_type": "code",
      "source": [
        "from matplotlib import pyplot as plt\n",
        "import math"
      ],
      "metadata": {
        "id": "YX4yMgBIGve2"
      },
      "execution_count": null,
      "outputs": []
    },
    {
      "cell_type": "markdown",
      "source": [
        "Phân đoạn 2:\n"
      ],
      "metadata": {
        "id": "WJWGxyL9HA5K"
      }
    },
    {
      "cell_type": "markdown",
      "source": [
        "Hàm 1: Hàm vẽ đồ thị"
      ],
      "metadata": {
        "id": "giNwqVjVHDlx"
      }
    },
    {
      "cell_type": "code",
      "source": [
        "from itertools import starmap\n",
        "def draw_graph(x,y):\n",
        "  plt.plot(x,y)\n",
        "  plt.xlabel('Truc X')\n",
        "  plt.ylabel('Truc Y')\n",
        "  plt.title('Do thi bai toan nem bong')"
      ],
      "metadata": {
        "id": "52lONJ3hHFC-"
      },
      "execution_count": null,
      "outputs": []
    },
    {
      "cell_type": "markdown",
      "source": [
        "Hàm 2: Hàm xử lý về tạo các khoảng số thực đều nhau"
      ],
      "metadata": {
        "id": "wGAWCt13HJrX"
      }
    },
    {
      "cell_type": "code",
      "source": [
        "def frange(start, final, intervals):\n",
        "  number = []\n",
        "  while start < final:\n",
        "    number.append(start)\n",
        "    start = start + intervals\n",
        "  return number"
      ],
      "metadata": {
        "id": "im_hmuIGHM6a"
      },
      "execution_count": null,
      "outputs": []
    },
    {
      "cell_type": "markdown",
      "source": [
        "Hàm 3: Hàm tính toán các dãy X, Y để vẽ đồ thị tương ứng với hàm đạn đạo:"
      ],
      "metadata": {
        "id": "dDodvWhAHPjl"
      }
    },
    {
      "cell_type": "code",
      "source": [
        "def draw_trajectory(u,theta):\n",
        "  import math\n",
        "  g = 9.8\n",
        "  theta = math.radians(theta)\n",
        "  t_flight = 2*u*math.sin(theta)/g\n",
        "  intervals = frange(0, t_flight, 0.001)\n",
        "  x = []\n",
        "  y = []\n",
        "  for t in intervals:\n",
        "    x.append(u*math.cos(theta)*t)\n",
        "    y.append(u*math.sin(theta)*t - 0.5*g*t*t)\n",
        "  draw_graph(x,y)"
      ],
      "metadata": {
        "id": "Z5HsgBQgHSDL"
      },
      "execution_count": null,
      "outputs": []
    },
    {
      "cell_type": "markdown",
      "source": [
        "Phân đoạn 3:"
      ],
      "metadata": {
        "id": "GqdYAKgwHVKs"
      }
    },
    {
      "cell_type": "code",
      "source": [
        "if __name__=='__main__':\n",
        "  try:\n",
        "    u = float(input('Nhap van toc ban dau (m/s):'))\n",
        "    theta = float(input('Nhap goc bay (degrees):'))\n",
        "  except ValueError:\n",
        "    print('Nhap cac gia tri sai!')\n",
        "  else:\n",
        "    draw_trajectory(u,theta)\n",
        "    plt.show()\n",
        "  finally:\n",
        "    print('Hoan thanh chuong trinh!')"
      ],
      "metadata": {
        "id": "zAZ7oxixHXM5"
      },
      "execution_count": null,
      "outputs": []
    },
    {
      "cell_type": "markdown",
      "source": [
        "Bai 7"
      ],
      "metadata": {
        "id": "QCbHR4PVH4wD"
      }
    },
    {
      "cell_type": "code",
      "source": [
        "if __name__=='__main__':\n",
        "  ds_vantoc = [20,40,60]\n",
        "  goc_bandau = 45\n",
        "  for v in ds_vantoc:\n",
        "    draw_trajectory(v, goc_bandau)\n",
        "\n",
        "  chudan = []\n",
        "  for i in ds_vantoc:\n",
        "    chudan.append(str(i))\n",
        "  print('Chu dan duoc tao la:')\n",
        "  print(chudan)\n",
        "  plt.legend(chudan)\n",
        "  plt.show()"
      ],
      "metadata": {
        "id": "wFPVFMUUH65l"
      },
      "execution_count": null,
      "outputs": []
    },
    {
      "cell_type": "markdown",
      "source": [
        "b8"
      ],
      "metadata": {
        "id": "jf6gJtw3H-gD"
      }
    },
    {
      "cell_type": "code",
      "source": [
        "from sympy import Symbol, Derivative, sympify, pprint\n",
        "def tinh_daoham(ham_f,bien):\n",
        "    bien = Symbol(bien)\n",
        "    d = Derivative(ham_f,bien).doit()\n",
        "    pprint(d)"
      ],
      "metadata": {
        "id": "LCtVe_QUIAaB"
      },
      "execution_count": null,
      "outputs": []
    }
  ]
}