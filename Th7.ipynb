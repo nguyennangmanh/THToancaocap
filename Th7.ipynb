{
  "nbformat": 4,
  "nbformat_minor": 0,
  "metadata": {
    "colab": {
      "name": "Th7.ipynb",
      "provenance": [],
      "authorship_tag": "ABX9TyPdk3wE8nstAZfQjceDtLGT",
      "include_colab_link": true
    },
    "kernelspec": {
      "name": "python3",
      "display_name": "Python 3"
    },
    "language_info": {
      "name": "python"
    }
  },
  "cells": [
    {
      "cell_type": "markdown",
      "metadata": {
        "id": "view-in-github",
        "colab_type": "text"
      },
      "source": [
        "<a href=\"https://colab.research.google.com/github/nguyennangmanh/THToancaocap/blob/main/Th7.ipynb\" target=\"_parent\"><img src=\"https://colab.research.google.com/assets/colab-badge.svg\" alt=\"Open In Colab\"/></a>"
      ]
    },
    {
      "cell_type": "markdown",
      "source": [
        "th1"
      ],
      "metadata": {
        "id": "pmBwRv3tOZpI"
      }
    },
    {
      "cell_type": "code",
      "source": [
        "from sympy import Symbol, Integral \n",
        "x = Symbol('x')\n",
        "f = 1.0/x\n",
        "unbound1 = Integral(f,(x,0,2))\n",
        "unbound1.doit "
      ],
      "metadata": {
        "id": "5ptzQI1AOazY"
      },
      "execution_count": null,
      "outputs": []
    },
    {
      "cell_type": "markdown",
      "source": [
        "th2"
      ],
      "metadata": {
        "id": "4Y9AnP1XOdwC"
      }
    },
    {
      "cell_type": "code",
      "source": [
        "from sympy import Symbol, Integral \n",
        "x = Symbol('x') \n",
        "f = 1.0/x**2 \n",
        "unbound2 = Integral(f, (x, -1, 1)) \n",
        "unbound2.doit() "
      ],
      "metadata": {
        "id": "e0WvvjIXOend"
      },
      "execution_count": null,
      "outputs": []
    },
    {
      "cell_type": "markdown",
      "source": [
        "th3"
      ],
      "metadata": {
        "id": "HzM3Ja1mOgnP"
      }
    },
    {
      "cell_type": "code",
      "source": [
        "from sympy import Symbol,Integral,Abs \n",
        "x = Symbol('x')\n",
        "f=Abs(x)\n",
        "discontinous1=Integral(f,(x,-1,2))\n",
        "discontinous1.doit()"
      ],
      "metadata": {
        "id": "X7EiMRH0Ohby"
      },
      "execution_count": null,
      "outputs": []
    }
  ]
}